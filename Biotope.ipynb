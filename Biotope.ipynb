{
 "cells": [
  {
   "cell_type": "markdown",
   "metadata": {},
   "source": [
    "# OpenGroup Biotope workshop\n",
    "\n",
    "In this notebook, we will show how to download and visualise sensor data using the O-MI and O-DF standards. We will use the network of sensors deployed in Lyon as our case study.\n",
    "\n",
    "We will be using python to download and process the data, and use the [vega lite](https://vega.github.io/) data visualisation grammar to create interactive charts."
   ]
  },
  {
   "cell_type": "markdown",
   "metadata": {},
   "source": [
    "## Step 1: initialisation\n",
    "\n",
    "Let's start by importing the libraries that we will need in this project.\n",
    "\n",
    "[Pandas](https://pandas.pydata.org/) is the well-known library that provides high performance data structure and data analysis tools.\n",
    "\n",
    "[Altair](https://altair-viz.github.io/) allows us to generate vega lite charts via a python API."
   ]
  },
  {
   "cell_type": "code",
   "execution_count": null,
   "metadata": {},
   "outputs": [],
   "source": [
    "import requests # HTTP requests\n",
    "from bs4 import BeautifulSoup # XML parser\n",
    "import pandas as pd # data structure and processing\n",
    "import altair as alt # data visualisation\n",
    "import utils # utility functions developed for the workshop, see utils.py\n",
    "from datetime import datetime\n",
    "import json\n",
    "alt.renderers.enable('notebook')"
   ]
  },
  {
   "cell_type": "code",
   "execution_count": null,
   "metadata": {},
   "outputs": [],
   "source": [
    "# Some of the sensors are defective, we declare them here so we can exclude them from future processing\n",
    "defective_sensors = [\"Sensor:SL-T-P12\", \"Sensor:SL-T-P9\", \"Sensor:SL-T-P11\", \"Sensor:SL-T-G1\"]"
   ]
  },
  {
   "cell_type": "code",
   "execution_count": null,
   "metadata": {},
   "outputs": [],
   "source": [
    "# URL of the OM-I node\n",
    "url = \"https://biotope-omi.alpha.grandlyon.com/\""
   ]
  },
  {
   "cell_type": "markdown",
   "metadata": {},
   "source": [
    "## Step 2: querying the O-MI node\n",
    "\n",
    "The [O-MI web client](https://biotope-omi.alpha.grandlyon.com/html/webclient/index.html) allows you to easily discover the hierarchy in which the sensors are organised.\n",
    "\n",
    "In this notebook, we will be using the temperature sensors located in:\n",
    "- `Organization:Metropole-de-Lyon:v1-0-0/OrganizationalUnit:DINSI/Deployment:Sensing-Labs-IP68-Outdoor-Temperature-Sensor:I`\n",
    "- `Organization:Metropole-de-Lyon:v1-0-0/OrganizationalUnit:DINSI/Deployment:Sensing-Labs-IP68-Outdoor-Temperature-Sensor:II`\n",
    "\n",
    "Let's start by querying a single sensor. For example `Organization:Metropole-de-Lyon:v1-0-0/OrganizationalUnit:DINSI/Deployment:Sensing-Labs-IP68-Outdoor-Temperature-Sensor:I/Sensor:SL-T-P1`. The function `utils.dictionary2omi` allows us to generate a O-MI query from a hierarchy described as a python dictionary."
   ]
  },
  {
   "cell_type": "code",
   "execution_count": null,
   "metadata": {},
   "outputs": [],
   "source": [
    "hierarchy = {\n",
    "    \"Organization:Metropole-de-Lyon:v1-0-0\" : {\n",
    "        \"OrganizationalUnit:DINSI\": {\n",
    "            \"Deployment:Sensing-Labs-IP68-Outdoor-Temperature-Sensor:I\": {\n",
    "                \"Sensor:SL-T-P1\"\n",
    "            }\n",
    "        }\n",
    "    }\n",
    "}\n",
    "xmlReq = utils.dictionary2omi(hierarchy)"
   ]
  },
  {
   "cell_type": "code",
   "execution_count": null,
   "metadata": {},
   "outputs": [],
   "source": [
    "print(BeautifulSoup(xmlReq).prettify())"
   ]
  },
  {
   "cell_type": "code",
   "execution_count": null,
   "metadata": {},
   "outputs": [],
   "source": [
    "# Send query to O-MI node\n",
    "resp = requests.post(url, data=xmlReq)\n",
    "# Parse response\n",
    "xmlResp = BeautifulSoup(resp.text)"
   ]
  },
  {
   "cell_type": "markdown",
   "metadata": {},
   "source": [
    "The XML response to the query contains a variety of information relating to the sensor and the owner of the sensor, as well as its last measurement."
   ]
  },
  {
   "cell_type": "code",
   "execution_count": null,
   "metadata": {
    "scrolled": true
   },
   "outputs": [],
   "source": [
    "print(xmlResp.prettify())"
   ]
  },
  {
   "cell_type": "markdown",
   "metadata": {},
   "source": [
    "We can query more than one measurement at once. For example, we can download the last 100 measurements using the `newest` parameter."
   ]
  },
  {
   "cell_type": "code",
   "execution_count": null,
   "metadata": {},
   "outputs": [],
   "source": [
    "hierarchy = {\n",
    "    \"Organization:Metropole-de-Lyon:v1-0-0\" : {\n",
    "        \"OrganizationalUnit:DINSI\": {\n",
    "            \"Deployment:Sensing-Labs-IP68-Outdoor-Temperature-Sensor:I\": {\n",
    "                \"Sensor:SL-T-P1\"\n",
    "            }\n",
    "        }\n",
    "    }\n",
    "}\n",
    "xmlReq = utils.dictionary2omi(hierarchy, newest=100)"
   ]
  },
  {
   "cell_type": "code",
   "execution_count": null,
   "metadata": {},
   "outputs": [],
   "source": [
    "sltp1 = BeautifulSoup(requests.post(url, data=xmlReq).text)"
   ]
  },
  {
   "cell_type": "code",
   "execution_count": null,
   "metadata": {
    "scrolled": true
   },
   "outputs": [],
   "source": [
    "print(sltp1.prettify())"
   ]
  },
  {
   "cell_type": "markdown",
   "metadata": {},
   "source": [
    "We can also query an object and all of its children."
   ]
  },
  {
   "cell_type": "code",
   "execution_count": null,
   "metadata": {},
   "outputs": [],
   "source": [
    "hierarchy = {\n",
    "    \"Organization:Metropole-de-Lyon:v1-0-0\" : {\n",
    "        \"OrganizationalUnit:DINSI\": {\n",
    "            \"Deployment:Sensing-Labs-IP68-Outdoor-Temperature-Sensor:I\",\n",
    "            \"Deployment:Sensing-Labs-IP68-Outdoor-Temperature-Sensor:II\"\n",
    "        }\n",
    "    }\n",
    "}\n",
    "xmlReq = utils.dictionary2omi(hierarchy, newest=100)"
   ]
  },
  {
   "cell_type": "code",
   "execution_count": null,
   "metadata": {},
   "outputs": [],
   "source": [
    "all_sensors = BeautifulSoup(requests.post(url, data=xmlReq).text)"
   ]
  },
  {
   "cell_type": "code",
   "execution_count": null,
   "metadata": {},
   "outputs": [],
   "source": [
    "print(all_sensors.prettify())"
   ]
  },
  {
   "cell_type": "markdown",
   "metadata": {},
   "source": [
    "## Step 3: parsing and visualising\n",
    "\n",
    "Now that we have downloaded the raw data, we need to extract the information that we want to study.\n",
    "\n",
    "Let's say we want to visualise a curve of the temperature of the last few days for the SL-T-P1 sensor. We need to extract the temperature and the timestamp from the XML."
   ]
  },
  {
   "cell_type": "code",
   "execution_count": null,
   "metadata": {
    "scrolled": true
   },
   "outputs": [],
   "source": [
    "# Get all relevant \"value\" tags\n",
    "values = sltp1.find('object', type=\"sosa:Observation\").infoitem.find_all('value')\n",
    "\n",
    "data = {\n",
    "    \"timestamp\": [],\n",
    "    \"value\": []\n",
    "}\n",
    "# Extract value and timestamp from the tags\n",
    "for v in values:\n",
    "    data[\"value\"].append(float(v.text))\n",
    "    data[\"timestamp\"].append(v.get(\"datetime\"))\n",
    "\n",
    "# Store result in a pandas DataFrame\n",
    "df = pd.DataFrame(data)"
   ]
  },
  {
   "cell_type": "markdown",
   "metadata": {},
   "source": [
    "We can then chart the result using Altair.\n",
    "```python\n",
    "alt.Chart(df) # Chart the data contained in df\n",
    ".mark_line()  # using a line chart\n",
    ".encode(      # with the following properties\n",
    "    x='timestamp:T', # x axis: data from the 'timestamp' column, type Time\n",
    "    y='value:Q'      # y axis: data from the 'value' column, type Quantitative\n",
    ")\n",
    "```"
   ]
  },
  {
   "cell_type": "code",
   "execution_count": null,
   "metadata": {
    "scrolled": true
   },
   "outputs": [],
   "source": [
    "alt.Chart(df).mark_line().encode(\n",
    "    x='timestamp:T',\n",
    "    y='value:Q'\n",
    ")"
   ]
  },
  {
   "cell_type": "markdown",
   "metadata": {},
   "source": [
    "Let's move on to a more complex use case. This time, we want to display all the sensors on a map as points, and colour them depending on their last temperature measurement."
   ]
  },
  {
   "cell_type": "code",
   "execution_count": null,
   "metadata": {},
   "outputs": [],
   "source": [
    "# Parsing\n",
    "lora = all_sensors.omienvelope.response.result.msg.objects.find_all('object', type=\"seas:LoRaCommunicationDevice\")\n",
    "data = {\n",
    "    \"name\": [],\n",
    "    \"latitude\": [],\n",
    "    \"longitude\": [],\n",
    "    \"lastValue\": []\n",
    "}\n",
    "for s in lora:\n",
    "    name = s.id.string\n",
    "    # ignore defective sensors\n",
    "    if name in defective_sensors:\n",
    "        continue    \n",
    "    obs = s.find('object', type=\"sosa:Observation\")\n",
    "    data[\"name\"].append(name)\n",
    "    data[\"longitude\"].append(float(s.find('infoitem', {\"name\":\"geo:long\"}).string))\n",
    "    data[\"latitude\"].append(float(s.find('infoitem', {\"name\":\"geo:lat\"}).string))\n",
    "    data[\"lastValue\"].append(float(obs.infoitem.find(\"value\").string)) # We only use the first value\n",
    "df = pd.DataFrame(data)"
   ]
  },
  {
   "cell_type": "code",
   "execution_count": null,
   "metadata": {},
   "outputs": [],
   "source": [
    "# Data visualisation\n",
    "# utils.geoChart is a custom function to automatically transform longitude/latitude fields\n",
    "# into geographical point ready for plotting\n",
    "chart = alt.Chart(df).mark_circle().encode(\n",
    "    longitude='longitude:Q',\n",
    "    latitude='latitude:Q',\n",
    "    color=alt.Color('lastValue:Q', scale=alt.Scale(scheme=\"inferno\"))\n",
    ")\n",
    "chart"
   ]
  },
  {
   "cell_type": "code",
   "execution_count": null,
   "metadata": {
    "scrolled": true
   },
   "outputs": [],
   "source": [
    "# We can add the outline of the metropole to the chart to have a better understanding of the sensors' positions\n",
    "file = open('grandlyon.json', encoding='utf-8')\n",
    "geojson = json.load(file)\n",
    "file.close()\n",
    "metropole_outline = alt.Data(values=geojson, format=alt.JsonDataFormat(property='features'))\n",
    "metropole = alt.Chart(metropole_outline).mark_geoshape(\n",
    "    stroke='red'\n",
    ").encode()\n",
    "metropole + chart"
   ]
  },
  {
   "cell_type": "markdown",
   "metadata": {},
   "source": [
    "# TODO: remove ?"
   ]
  },
  {
   "cell_type": "code",
   "execution_count": null,
   "metadata": {
    "scrolled": true
   },
   "outputs": [],
   "source": [
    "df2 = df[~df['name'].isin([\"Sensor:SL-T-G9\", \"Sensor:SL-T-G10\", \"Sensor:SL-T-G11\", \"Sensor:SL-T-G12\"])]\n",
    "chart = alt.Chart(df2).mark_circle().encode(\n",
    "    longitude='longitude:Q',\n",
    "    latitude='latitude:Q',\n",
    "    #color=alt.Color('lastValue:Q', scale=alt.Scale(scheme=\"inferno\"))\n",
    "    color='name:N'\n",
    ")\n",
    "chart"
   ]
  },
  {
   "cell_type": "markdown",
   "metadata": {},
   "source": [
    "We can also represent multiple sensors' measurements on the same chart using color coding."
   ]
  },
  {
   "cell_type": "code",
   "execution_count": null,
   "metadata": {},
   "outputs": [],
   "source": [
    "data = {\n",
    "    \"name\": [],\n",
    "    \"timestamp\": [],\n",
    "    \"value\": []\n",
    "}\n",
    "sensors = xmlResp.omienvelope.response.result.msg.objects.find_all('object', type=\"seas:LoRaCommunicationDevice\")\n",
    "for s in lora:\n",
    "    obs = s.find('object', type=\"sosa:Observation\")\n",
    "    name = s.id.string\n",
    "    if name in defective_sensors:\n",
    "        continue\n",
    "    for v in obs.infoitem.find_all(\"value\"):\n",
    "        data[\"name\"].append(name)\n",
    "        data[\"timestamp\"].append(v.get(\"datetime\"))\n",
    "        data[\"value\"].append(float(v.string))\n",
    "df = pd.DataFrame(data)"
   ]
  },
  {
   "cell_type": "code",
   "execution_count": null,
   "metadata": {},
   "outputs": [],
   "source": [
    "alt.Chart(df).mark_line().encode(\n",
    "    x=alt.X('timestamp:T'),\n",
    "    y=alt.Y('value'),\n",
    "    color='name'\n",
    ")"
   ]
  },
  {
   "cell_type": "markdown",
   "metadata": {},
   "source": [
    "## Exercise: bottle banks\n",
    "\n",
    "Chart ideas:\n",
    "- Map of bottle banks' capacity\n",
    "- Fill rate evolution over time\n",
    "- Current fill rate using bar charts (mark_bar)"
   ]
  },
  {
   "cell_type": "code",
   "execution_count": null,
   "metadata": {},
   "outputs": [],
   "source": [
    "# Define query\n",
    "hierarchy = {\n",
    "    \"Organization:SigrenEa-V1.1.0\" : {\n",
    "        \"Deployment:Bottle_Bank:1edd171c-5f2d-11e8-a6ab-10604b7fb2e7\"\n",
    "    }\n",
    "}\n",
    "xmlReq = utils.dictionary2omi(hierarchy)"
   ]
  },
  {
   "cell_type": "code",
   "execution_count": 23,
   "metadata": {},
   "outputs": [],
   "source": [
    "# Send query\n",
    "resp = requests.post(url, data=xmlReq)\n",
    "xmlResp = BeautifulSoup(resp.text)"
   ]
  },
  {
   "cell_type": "code",
   "execution_count": 24,
   "metadata": {},
   "outputs": [],
   "source": [
    "# Parse response"
   ]
  },
  {
   "cell_type": "code",
   "execution_count": 25,
   "metadata": {},
   "outputs": [],
   "source": [
    "# Create data visualisation"
   ]
  },
  {
   "cell_type": "code",
   "execution_count": null,
   "metadata": {},
   "outputs": [],
   "source": []
  }
 ],
 "metadata": {
  "kernelspec": {
   "display_name": "Python 3",
   "language": "python",
   "name": "python3"
  },
  "language_info": {
   "codemirror_mode": {
    "name": "ipython",
    "version": 3
   },
   "file_extension": ".py",
   "mimetype": "text/x-python",
   "name": "python",
   "nbconvert_exporter": "python",
   "pygments_lexer": "ipython3",
   "version": "3.6.7"
  }
 },
 "nbformat": 4,
 "nbformat_minor": 2
}
